{
 "cells": [
  {
   "cell_type": "code",
   "execution_count": null,
   "metadata": {},
   "outputs": [],
   "source": [
    "from Classifier import email_type_router_chain\n",
    "from ComposingGenerator import email_generation_chain,EmailOutput\n",
    "import json"
   ]
  },
  {
   "cell_type": "code",
   "execution_count": 9,
   "metadata": {},
   "outputs": [],
   "source": [
    "query = \"I need to reschedule our meeting to next Wednesday at 3 PM. Please confirm availability.\""
   ]
  },
  {
   "cell_type": "code",
   "execution_count": 10,
   "metadata": {},
   "outputs": [
    {
     "name": "stdout",
     "output_type": "stream",
     "text": [
      "content='I will classify the email into one of the categories provided.' additional_kwargs={'id': '87eff105-9992-4e62-85ca-b271991a3d39', 'finish_reason': 'TOOL_CALL', 'tool_plan': 'I will classify the email into one of the categories provided.', 'tool_calls': [{'id': 'EmailClassifier_xzpyqxa6njts', 'type': 'function', 'function': {'name': 'EmailClassifier', 'arguments': '{\"email_type\":\"Formal\"}'}}], 'token_count': {'input_tokens': 1628.0, 'output_tokens': 50.0}} response_metadata={'id': '87eff105-9992-4e62-85ca-b271991a3d39', 'finish_reason': 'TOOL_CALL', 'tool_plan': 'I will classify the email into one of the categories provided.', 'tool_calls': [{'id': 'EmailClassifier_xzpyqxa6njts', 'type': 'function', 'function': {'name': 'EmailClassifier', 'arguments': '{\"email_type\":\"Formal\"}'}}], 'token_count': {'input_tokens': 1628.0, 'output_tokens': 50.0}} id='run-c7f50492-5a45-42c1-90f0-0a28d946633b-0' tool_calls=[{'name': 'EmailClassifier', 'args': {'email_type': 'Formal'}, 'id': 'EmailClassifier_xzpyqxa6njts', 'type': 'tool_call'}] usage_metadata={'input_tokens': 1628, 'output_tokens': 50, 'total_tokens': 1678}\n"
     ]
    }
   ],
   "source": [
    "result = email_type_router_chain.invoke({\"query\": query})\n",
    "print(result)"
   ]
  },
  {
   "cell_type": "code",
   "execution_count": 11,
   "metadata": {},
   "outputs": [
    {
     "data": {
      "text/plain": [
       "'{\"email_type\":\"Formal\"}'"
      ]
     },
     "execution_count": 11,
     "metadata": {},
     "output_type": "execute_result"
    }
   ],
   "source": [
    "result.additional_kwargs['tool_calls'][0]['function']['arguments']"
   ]
  },
  {
   "cell_type": "code",
   "execution_count": 12,
   "metadata": {},
   "outputs": [
    {
     "name": "stdout",
     "output_type": "stream",
     "text": [
      "{\"email_type\":\"Formal\"}\n"
     ]
    }
   ],
   "source": [
    "email_type_args = result.additional_kwargs['tool_calls'][0]['function']['arguments']\n",
    "print(email_type_args)"
   ]
  },
  {
   "cell_type": "code",
   "execution_count": null,
   "metadata": {},
   "outputs": [],
   "source": []
  },
  {
   "cell_type": "code",
   "execution_count": 1,
   "metadata": {},
   "outputs": [
    {
     "name": "stdout",
     "output_type": "stream",
     "text": [
      "Requirement already satisfied: langchain_core in c:\\users\\manab\\anaconda3\\envs\\pt\\lib\\site-packages (0.3.48)\n",
      "Requirement already satisfied: langsmith<0.4,>=0.1.125 in c:\\users\\manab\\anaconda3\\envs\\pt\\lib\\site-packages (from langchain_core) (0.3.11)\n",
      "Requirement already satisfied: tenacity!=8.4.0,<10.0.0,>=8.1.0 in c:\\users\\manab\\anaconda3\\envs\\pt\\lib\\site-packages (from langchain_core) (9.0.0)\n",
      "Requirement already satisfied: jsonpatch<2.0,>=1.33 in c:\\users\\manab\\anaconda3\\envs\\pt\\lib\\site-packages (from langchain_core) (1.33)\n",
      "Requirement already satisfied: PyYAML>=5.3 in c:\\users\\manab\\anaconda3\\envs\\pt\\lib\\site-packages (from langchain_core) (6.0.1)\n",
      "Requirement already satisfied: packaging<25,>=23.2 in c:\\users\\manab\\anaconda3\\envs\\pt\\lib\\site-packages (from langchain_core) (23.2)\n",
      "Requirement already satisfied: typing-extensions>=4.7 in c:\\users\\manab\\anaconda3\\envs\\pt\\lib\\site-packages (from langchain_core) (4.12.2)\n",
      "Requirement already satisfied: pydantic<3.0.0,>=2.5.2 in c:\\users\\manab\\anaconda3\\envs\\pt\\lib\\site-packages (from langchain_core) (2.10.6)\n",
      "Requirement already satisfied: jsonpointer>=1.9 in c:\\users\\manab\\anaconda3\\envs\\pt\\lib\\site-packages (from jsonpatch<2.0,>=1.33->langchain_core) (3.0.0)\n",
      "Requirement already satisfied: httpx<1,>=0.23.0 in c:\\users\\manab\\anaconda3\\envs\\pt\\lib\\site-packages (from langsmith<0.4,>=0.1.125->langchain_core) (0.28.1)\n",
      "Requirement already satisfied: orjson<4.0.0,>=3.9.14 in c:\\users\\manab\\anaconda3\\envs\\pt\\lib\\site-packages (from langsmith<0.4,>=0.1.125->langchain_core) (3.10.15)\n",
      "Requirement already satisfied: requests<3,>=2 in c:\\users\\manab\\anaconda3\\envs\\pt\\lib\\site-packages (from langsmith<0.4,>=0.1.125->langchain_core) (2.32.2)\n",
      "Requirement already satisfied: requests-toolbelt<2.0.0,>=1.0.0 in c:\\users\\manab\\anaconda3\\envs\\pt\\lib\\site-packages (from langsmith<0.4,>=0.1.125->langchain_core) (1.0.0)\n",
      "Requirement already satisfied: zstandard<0.24.0,>=0.23.0 in c:\\users\\manab\\anaconda3\\envs\\pt\\lib\\site-packages (from langsmith<0.4,>=0.1.125->langchain_core) (0.23.0)\n",
      "Requirement already satisfied: annotated-types>=0.6.0 in c:\\users\\manab\\anaconda3\\envs\\pt\\lib\\site-packages (from pydantic<3.0.0,>=2.5.2->langchain_core) (0.7.0)\n",
      "Requirement already satisfied: pydantic-core==2.27.2 in c:\\users\\manab\\anaconda3\\envs\\pt\\lib\\site-packages (from pydantic<3.0.0,>=2.5.2->langchain_core) (2.27.2)\n",
      "Requirement already satisfied: anyio in c:\\users\\manab\\anaconda3\\envs\\pt\\lib\\site-packages (from httpx<1,>=0.23.0->langsmith<0.4,>=0.1.125->langchain_core) (4.2.0)\n",
      "Requirement already satisfied: certifi in c:\\users\\manab\\anaconda3\\envs\\pt\\lib\\site-packages (from httpx<1,>=0.23.0->langsmith<0.4,>=0.1.125->langchain_core) (2025.1.31)\n",
      "Requirement already satisfied: httpcore==1.* in c:\\users\\manab\\anaconda3\\envs\\pt\\lib\\site-packages (from httpx<1,>=0.23.0->langsmith<0.4,>=0.1.125->langchain_core) (1.0.7)\n",
      "Requirement already satisfied: idna in c:\\users\\manab\\anaconda3\\envs\\pt\\lib\\site-packages (from httpx<1,>=0.23.0->langsmith<0.4,>=0.1.125->langchain_core) (3.7)\n",
      "Requirement already satisfied: h11<0.15,>=0.13 in c:\\users\\manab\\anaconda3\\envs\\pt\\lib\\site-packages (from httpcore==1.*->httpx<1,>=0.23.0->langsmith<0.4,>=0.1.125->langchain_core) (0.14.0)\n",
      "Requirement already satisfied: charset-normalizer<4,>=2 in c:\\users\\manab\\anaconda3\\envs\\pt\\lib\\site-packages (from requests<3,>=2->langsmith<0.4,>=0.1.125->langchain_core) (2.0.4)\n",
      "Requirement already satisfied: urllib3<3,>=1.21.1 in c:\\users\\manab\\anaconda3\\envs\\pt\\lib\\site-packages (from requests<3,>=2->langsmith<0.4,>=0.1.125->langchain_core) (2.2.1)\n",
      "Requirement already satisfied: sniffio>=1.1 in c:\\users\\manab\\anaconda3\\envs\\pt\\lib\\site-packages (from anyio->httpx<1,>=0.23.0->langsmith<0.4,>=0.1.125->langchain_core) (1.3.0)\n"
     ]
    }
   ],
   "source": [
    "! pip install langchain_core"
   ]
  },
  {
   "cell_type": "code",
   "execution_count": null,
   "metadata": {},
   "outputs": [],
   "source": [
    "from ComposingGenerator import email_generation_chain,EmailOutput\n",
    "import json"
   ]
  },
  {
   "cell_type": "code",
   "execution_count": null,
   "metadata": {},
   "outputs": [],
   "source": []
  },
  {
   "cell_type": "code",
   "execution_count": null,
   "metadata": {},
   "outputs": [],
   "source": []
  },
  {
   "cell_type": "code",
   "execution_count": 2,
   "metadata": {},
   "outputs": [],
   "source": [
    "email_details = \"\"\"\n",
    "From: alice@example.com\n",
    "To: bob@example.com\n",
    "Subject: Meeting Reschedule Request\n",
    "\"\"\"\n",
    "\n",
    "query = \"I need to reschedule our meeting to next Wednesday at 3 PM. Please confirm availability.\"\n",
    "\n",
    "# result = email_generation_chain.invoke({\n",
    "#     \"email_type\": \"Formal\",\n",
    "#     \"email\": email_details,\n",
    "#     \"query\": query\n",
    "# })\n",
    "# response_data = json.loads(result.additional_kwargs['function_call']['arguments'])\n",
    "# ordered_output = EmailOutput(**response_data).model_dump()\n",
    "# print(ordered_output['Body'])\n",
    "# print(json.dumps(ordered_output, indent=2))\n",
    "# # print(result.additional_kwargs['function_call']['arguments'])"
   ]
  },
  {
   "cell_type": "code",
   "execution_count": 3,
   "metadata": {},
   "outputs": [],
   "source": [
    "from Build_graph import compile_generate_agent"
   ]
  },
  {
   "cell_type": "code",
   "execution_count": 4,
   "metadata": {},
   "outputs": [
    {
     "name": "stdout",
     "output_type": "stream",
     "text": [
      "Compiling workflow...\n"
     ]
    }
   ],
   "source": [
    "composer_agent = compile_generate_agent()"
   ]
  },
  {
   "cell_type": "code",
   "execution_count": 5,
   "metadata": {},
   "outputs": [],
   "source": [
    "response = composer_agent.invoke({\n",
    "    \"email\": email_details,\n",
    "    \"query\": query\n",
    "})"
   ]
  },
  {
   "cell_type": "code",
   "execution_count": 6,
   "metadata": {},
   "outputs": [
    {
     "data": {
      "text/plain": [
       "{'email': '\\nFrom: alice@example.com\\nTo: bob@example.com\\nSubject: Meeting Reschedule Request\\n',\n",
       " 'query': 'I need to reschedule our meeting to next Wednesday at 3 PM. Please confirm availability.',\n",
       " 'email_type': '{\"email_type\":\"Formal\"}',\n",
       " 'generate_email': {'From': 'alice@example.com',\n",
       "  'To': 'bob@example.com',\n",
       "  'Subject': 'Meeting Reschedule Request',\n",
       "  'Body': 'Dear Bob,\\n\\nI am writing to request a reschedule of our meeting.  Due to unforeseen circumstances, I am unable to make our previously scheduled meeting. Would Wednesday at 3 PM work for you?\\n\\nPlease let me know if this time is convenient.\\n\\nSincerely,\\nAlice'}}"
      ]
     },
     "execution_count": 6,
     "metadata": {},
     "output_type": "execute_result"
    }
   ],
   "source": [
    "response"
   ]
  },
  {
   "cell_type": "code",
   "execution_count": 7,
   "metadata": {},
   "outputs": [
    {
     "data": {
      "image/png": "[encoded data removed]",
      "text/plain": [
       "<IPython.core.display.Image object>"
      ]
     },
     "metadata": {},
     "output_type": "display_data"
    }
   ],
   "source": [
    "from IPython.display import display, Image\n",
    "display(Image(composer_agent.get_graph(xray=True).draw_mermaid_png()))"
   ]
  },
  {
   "cell_type": "code",
   "execution_count": null,
   "metadata": {},
   "outputs": [],
   "source": []
  }
 ],
 "metadata": {
  "kernelspec": {
   "display_name": "Python 3",
   "language": "python",
   "name": "python3"
  },
  "language_info": {
   "codemirror_mode": {
    "name": "ipython",
    "version": 3
   },
   "file_extension": ".py",
   "mimetype": "text/x-python",
   "name": "python",
   "nbconvert_exporter": "python",
   "pygments_lexer": "ipython3",
   "version": "3.12.3"
  }
 },
 "nbformat": 4,
 "nbformat_minor": 2
}
