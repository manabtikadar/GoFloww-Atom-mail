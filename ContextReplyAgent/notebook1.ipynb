{
 "cells": [
  {
   "cell_type": "code",
   "execution_count": 1,
   "metadata": {},
   "outputs": [],
   "source": [
    "from graph import compile_reply_agent"
   ]
  },
  {
   "cell_type": "code",
   "execution_count": 2,
   "metadata": {},
   "outputs": [
    {
     "name": "stdout",
     "output_type": "stream",
     "text": [
      "Compiling workflow...\n"
     ]
    }
   ],
   "source": [
    "reply_agent = compile_reply_agent()\n"
   ]
  },
  {
   "cell_type": "code",
   "execution_count": 3,
   "metadata": {},
   "outputs": [],
   "source": [
    "previous_response = \"\"\"From: john.doe@company.com\n",
    "To: debajyoti.majee@email.com\n",
    "Subject: Project Update Request\n",
    "Body: Hi Debajyoti, could you please provide an update on the status of the AtomMail feature development? We're planning the next sprint and need to know the current progress.\n",
    "\n",
    "From: debajyoti.majee@email.com\n",
    "To: john.doe@company.com\n",
    "Subject: Re: Project Update Request\n",
    "Body: Hi John, we've completed the backend integration and are currently working on the UI improvements. We're targeting to finish testing by next Friday.\n",
    "\"\"\"\n",
    "\n",
    "email_input = {\n",
    "  \"From\": \"john.doe@company.com\",\n",
    "  \"To\": \"debajyoti.majee@email.com\",\n",
    "  \"Subject\": \"Follow-up on UI Feedback\",\n",
    "  \"Body\": \"Thanks for the update, Debajyoti. Can you also include the user feedback summary in your next report?\"\n",
    "}\n",
    "query = \"\"\"Reply thanking them and confirm that I'll include the feedback summary in the next update.\n",
    "\"\"\""
   ]
  },
  {
   "cell_type": "code",
   "execution_count": 4,
   "metadata": {},
   "outputs": [],
   "source": [
    "response = reply_agent.invoke({\n",
    "    \"email\":email_input,\n",
    "    \"previous_response\":previous_response,\n",
    "    \"query\":query\n",
    "})"
   ]
  },
  {
   "cell_type": "code",
   "execution_count": 5,
   "metadata": {},
   "outputs": [
    {
     "name": "stdout",
     "output_type": "stream",
     "text": [
      "{'email': {'From': 'john.doe@company.com', 'To': 'debajyoti.majee@email.com', 'Subject': 'Follow-up on UI Feedback', 'Body': 'Thanks for the update, Debajyoti. Can you also include the user feedback summary in your next report?'}, 'query': \"Reply thanking them and confirm that I'll include the feedback summary in the next update.\\n\", 'previous_response': \"From: john.doe@company.com\\nTo: debajyoti.majee@email.com\\nSubject: Project Update Request\\nBody: Hi Debajyoti, could you please provide an update on the status of the AtomMail feature development? We're planning the next sprint and need to know the current progress.\\n\\nFrom: debajyoti.majee@email.com\\nTo: john.doe@company.com\\nSubject: Re: Project Update Request\\nBody: Hi John, we've completed the backend integration and are currently working on the UI improvements. We're targeting to finish testing by next Friday.\\n\", 'generate_email': {'From': 'debajyoti.majee@email.com', 'To': 'john.doe@company.com', 'Subject': 'Re: Follow-up on UI Feedback', 'Body': 'Hi John,\\n\\nThank you for the feedback. I will include the user feedback summary in the next update.\\n\\nRegards,\\nDebajyoti'}}\n"
     ]
    }
   ],
   "source": [
    "print(response)"
   ]
  },
  {
   "cell_type": "code",
   "execution_count": 6,
   "metadata": {},
   "outputs": [
    {
     "data": {
      "text/plain": [
       "dict_keys(['email', 'query', 'previous_response', 'generate_email'])"
      ]
     },
     "execution_count": 6,
     "metadata": {},
     "output_type": "execute_result"
    }
   ],
   "source": [
    "response.keys()"
   ]
  },
  {
   "cell_type": "code",
   "execution_count": 8,
   "metadata": {},
   "outputs": [],
   "source": [
    "result = response[\"generate_email\"]\n"
   ]
  },
  {
   "cell_type": "code",
   "execution_count": 9,
   "metadata": {},
   "outputs": [
    {
     "name": "stdout",
     "output_type": "stream",
     "text": [
      "From: debajyoti.majee@email.com\n",
      "To: john.doe@company.com\n",
      "Subject: Re: Follow-up on UI Feedback\n",
      "Body: Hi John,\n",
      "\n",
      "Thank you for the feedback. I will include the user feedback summary in the next update.\n",
      "\n",
      "Regards,\n",
      "Debajyoti\n"
     ]
    }
   ],
   "source": [
    "print(\"From:\",result[\"From\"])\n",
    "print(\"To:\",result[\"To\"])\n",
    "print(\"Subject:\",result[\"Subject\"])\n",
    "print(\"Body:\",result[\"Body\"])"
   ]
  },
  {
   "cell_type": "code",
   "execution_count": 11,
   "metadata": {},
   "outputs": [
    {
     "data": {
      "image/png": "[encoded data removed]",
      "text/plain": [
       "<IPython.core.display.Image object>"
      ]
     },
     "metadata": {},
     "output_type": "display_data"
    }
   ],
   "source": [
    "from IPython.display import display,Image\n",
    "\n",
    "display(Image(reply_agent.get_graph(xray=True).draw_mermaid_png()))"
   ]
  },
  {
   "cell_type": "code",
   "execution_count": null,
   "metadata": {},
   "outputs": [],
   "source": []
  }
 ],
 "metadata": {
  "kernelspec": {
   "display_name": "Python 3",
   "language": "python",
   "name": "python3"
  },
  "language_info": {
   "codemirror_mode": {
    "name": "ipython",
    "version": 3
   },
   "file_extension": ".py",
   "mimetype": "text/x-python",
   "name": "python",
   "nbconvert_exporter": "python",
   "pygments_lexer": "ipython3",
   "version": "3.12.3"
  }
 },
 "nbformat": 4,
 "nbformat_minor": 2
}
