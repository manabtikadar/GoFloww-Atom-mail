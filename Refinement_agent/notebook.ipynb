{
 "cells": [
  {
   "cell_type": "code",
   "execution_count": 1,
   "metadata": {},
   "outputs": [],
   "source": [
    "from grader import refinementGrader_chain"
   ]
  },
  {
   "cell_type": "code",
   "execution_count": 2,
   "metadata": {},
   "outputs": [],
   "source": [
    "query = \"Can you help me improve the clarity and tone of this email?\"\n",
    "email_input = \"\"\"\n",
    "From: john.doe@example.com  \n",
    "To: manager@company.com  \n",
    "Subject: Meeting in the next week \n",
    "\n",
    "hey,  \n",
    "just checking if u saw my last msg abt the meeting. lmk if 3pm works.  \n",
    "\n",
    "thx  \n",
    "\"\"\""
   ]
  },
  {
   "cell_type": "code",
   "execution_count": 3,
   "metadata": {},
   "outputs": [
    {
     "name": "stdout",
     "output_type": "stream",
     "text": [
      "content=\"I will use the RefinementGrader tool to assess the user's email and query.\" additional_kwargs={'id': 'c7edfe24-ef36-439b-9a45-c61a3bc6d5e1', 'finish_reason': 'TOOL_CALL', 'tool_plan': \"I will use the RefinementGrader tool to assess the user's email and query.\", 'tool_calls': [{'id': 'RefinementGrader_vdpg61xdcka1', 'type': 'function', 'function': {'name': 'RefinementGrader', 'arguments': '{\"needingImprovement\":\"yes\",\"ImprovementList\":[\"Tone Improvement\",\"Clarity Improvement\",\"Grammar Improvement\",\"Lacks professionalism\",\"No introduction or closing\"]}'}}], 'token_count': {'input_tokens': 1722.0, 'output_tokens': 89.0}} response_metadata={'id': 'c7edfe24-ef36-439b-9a45-c61a3bc6d5e1', 'finish_reason': 'TOOL_CALL', 'tool_plan': \"I will use the RefinementGrader tool to assess the user's email and query.\", 'tool_calls': [{'id': 'RefinementGrader_vdpg61xdcka1', 'type': 'function', 'function': {'name': 'RefinementGrader', 'arguments': '{\"needingImprovement\":\"yes\",\"ImprovementList\":[\"Tone Improvement\",\"Clarity Improvement\",\"Grammar Improvement\",\"Lacks professionalism\",\"No introduction or closing\"]}'}}], 'token_count': {'input_tokens': 1722.0, 'output_tokens': 89.0}} id='run-c28894ac-59d5-4740-9461-5cfa27f709bd-0' tool_calls=[{'name': 'RefinementGrader', 'args': {'needingImprovement': 'yes', 'ImprovementList': ['Tone Improvement', 'Clarity Improvement', 'Grammar Improvement', 'Lacks professionalism', 'No introduction or closing']}, 'id': 'RefinementGrader_vdpg61xdcka1', 'type': 'tool_call'}] usage_metadata={'input_tokens': 1722, 'output_tokens': 89, 'total_tokens': 1811}\n"
     ]
    }
   ],
   "source": [
    "response = refinementGrader_chain.invoke({\n",
    "    \"email_input\":email_input,\n",
    "    \"query\":query\n",
    "})\n",
    "\n",
    "print(response)"
   ]
  },
  {
   "cell_type": "code",
   "execution_count": 4,
   "metadata": {},
   "outputs": [
    {
     "data": {
      "text/plain": [
       "langchain_core.messages.ai.AIMessage"
      ]
     },
     "execution_count": 4,
     "metadata": {},
     "output_type": "execute_result"
    }
   ],
   "source": [
    "type(response)"
   ]
  },
  {
   "cell_type": "code",
   "execution_count": 5,
   "metadata": {},
   "outputs": [
    {
     "data": {
      "text/plain": [
       "dict"
      ]
     },
     "execution_count": 5,
     "metadata": {},
     "output_type": "execute_result"
    }
   ],
   "source": [
    "type(response.additional_kwargs)"
   ]
  },
  {
   "cell_type": "code",
   "execution_count": 6,
   "metadata": {},
   "outputs": [
    {
     "name": "stdout",
     "output_type": "stream",
     "text": [
      "{'name': 'RefinementGrader', 'arguments': '{\"needingImprovement\":\"yes\",\"ImprovementList\":[\"Tone Improvement\",\"Clarity Improvement\",\"Grammar Improvement\",\"Lacks professionalism\",\"No introduction or closing\"]}'}\n"
     ]
    }
   ],
   "source": [
    "print(response.additional_kwargs[\"tool_calls\"][0][\"function\"])"
   ]
  },
  {
   "cell_type": "code",
   "execution_count": 7,
   "metadata": {},
   "outputs": [
    {
     "data": {
      "text/plain": [
       "str"
      ]
     },
     "execution_count": 7,
     "metadata": {},
     "output_type": "execute_result"
    }
   ],
   "source": [
    "type(response.additional_kwargs[\"tool_calls\"][0][\"function\"][\"arguments\"])"
   ]
  },
  {
   "cell_type": "code",
   "execution_count": 8,
   "metadata": {},
   "outputs": [
    {
     "data": {
      "text/plain": [
       "dict"
      ]
     },
     "execution_count": 8,
     "metadata": {},
     "output_type": "execute_result"
    }
   ],
   "source": [
    "import json\n",
    "output = json.loads(response.additional_kwargs[\"tool_calls\"][0][\"function\"][\"arguments\"])\n",
    "type(output)"
   ]
  },
  {
   "cell_type": "code",
   "execution_count": 9,
   "metadata": {},
   "outputs": [
    {
     "name": "stdout",
     "output_type": "stream",
     "text": [
      "needing improvmenet: yes\n",
      "ImprovementList: ['Tone Improvement', 'Clarity Improvement', 'Grammar Improvement', 'Lacks professionalism', 'No introduction or closing']\n"
     ]
    }
   ],
   "source": [
    "print(\"needing improvmenet:\", output[\"needingImprovement\"])\n",
    "print(\"ImprovementList:\", output[\"ImprovementList\"])"
   ]
  },
  {
   "cell_type": "code",
   "execution_count": 10,
   "metadata": {},
   "outputs": [],
   "source": [
    "improvement_list = output[\"ImprovementList\"]"
   ]
  },
  {
   "cell_type": "code",
   "execution_count": 11,
   "metadata": {},
   "outputs": [],
   "source": [
    "from generator import email_refiner_chain\n"
   ]
  },
  {
   "cell_type": "code",
   "execution_count": 12,
   "metadata": {},
   "outputs": [],
   "source": [
    "refined_email = email_refiner_chain.invoke(\n",
    "    {\n",
    "        \"email\": email_input,\n",
    "        \"ImprovementList\": improvement_list\n",
    "    }\n",
    ")"
   ]
  },
  {
   "cell_type": "code",
   "execution_count": 13,
   "metadata": {},
   "outputs": [
    {
     "name": "stdout",
     "output_type": "stream",
     "text": [
      "{'From': 'john.doe@example.com', 'To': 'manager@company.com', 'Subject': 'Meeting in the Next Week', 'Body': 'Dear Manager, \\n\\nI wanted to follow up on my previous message regarding our meeting. I was wondering if 3pm works for you? Please let me know your availability.\\n\\nThank you,\\nJohn Doe'}\n"
     ]
    }
   ],
   "source": [
    "print(refined_email)"
   ]
  },
  {
   "cell_type": "code",
   "execution_count": 14,
   "metadata": {},
   "outputs": [
    {
     "name": "stdout",
     "output_type": "stream",
     "text": [
      "From: john.doe@example.com\n",
      "To: manager@company.com\n",
      "Subject: Meeting in the Next Week\n",
      "Body: Dear Manager, \n",
      "\n",
      "I wanted to follow up on my previous message regarding our meeting. I was wondering if 3pm works for you? Please let me know your availability.\n",
      "\n",
      "Thank you,\n",
      "John Doe\n"
     ]
    }
   ],
   "source": [
    "print(\"From:\",refined_email[\"From\"])\n",
    "print(\"To:\",refined_email[\"To\"])\n",
    "print(\"Subject:\",refined_email[\"Subject\"])\n",
    "print(\"Body:\",refined_email[\"Body\"])"
   ]
  },
  {
   "cell_type": "code",
   "execution_count": 15,
   "metadata": {},
   "outputs": [
    {
     "name": "stdout",
     "output_type": "stream",
     "text": [
      "Compiling workflow...\n"
     ]
    }
   ],
   "source": [
    "from agentic_graph import compile_refinement_agent\n",
    "\n",
    "refiner_agent = compile_refinement_agent()\n"
   ]
  },
  {
   "cell_type": "code",
   "execution_count": 16,
   "metadata": {},
   "outputs": [],
   "source": [
    "response = refiner_agent.invoke({\n",
    "    \"email\": email_input,\n",
    "    \"query\": query\n",
    "})"
   ]
  },
  {
   "cell_type": "code",
   "execution_count": 17,
   "metadata": {},
   "outputs": [
    {
     "name": "stdout",
     "output_type": "stream",
     "text": [
      "{'email': '\\nFrom: john.doe@example.com  \\nTo: manager@company.com  \\nSubject: Meeting in the next week \\n\\nhey,  \\njust checking if u saw my last msg abt the meeting. lmk if 3pm works.  \\n\\nthx  \\n', 'query': 'Can you help me improve the clarity and tone of this email?', 'needingImprovement': 'yes', 'ImprovementList': ['Tone Improvement', 'Clarity Improvement', 'Grammar Improvement', 'Lacks professionalism', 'No introduction or closing'], 'refined_email': {'From': 'john.doe@example.com', 'To': 'manager@company.com', 'Subject': 'Meeting in the Next Week', 'Body': 'Dear Manager,\\n\\nI wanted to follow up on my previous message regarding our meeting. I was wondering if 3pm works for you. Please let me know your availability.\\n\\nThank you,\\nJohn Doe'}}\n"
     ]
    }
   ],
   "source": [
    "print(response)"
   ]
  },
  {
   "cell_type": "code",
   "execution_count": 19,
   "metadata": {},
   "outputs": [
    {
     "name": "stdout",
     "output_type": "stream",
     "text": [
      "From: john.doe@example.com\n",
      "To: manager@company.com\n",
      "Subject: Meeting in the Next Week\n",
      "Body: Dear Manager,\n",
      "\n",
      "I wanted to follow up on my previous message regarding our meeting. I was wondering if 3pm works for you. Please let me know your availability.\n",
      "\n",
      "Thank you,\n",
      "John Doe\n"
     ]
    }
   ],
   "source": [
    "print(\"From:\",response[\"refined_email\"][\"From\"])\n",
    "print(\"To:\",response[\"refined_email\"][\"To\"])\n",
    "print(\"Subject:\",response[\"refined_email\"][\"Subject\"])\n",
    "print(\"Body:\",response[\"refined_email\"][\"Body\"])"
   ]
  },
  {
   "cell_type": "code",
   "execution_count": 21,
   "metadata": {},
   "outputs": [
    {
     "data": {
      "image/png": "[encoded data removed]",
      "text/plain": [
       "<IPython.core.display.Image object>"
      ]
     },
     "metadata": {},
     "output_type": "display_data"
    }
   ],
   "source": [
    "from IPython.display import Image, display\n",
    "display(Image(refiner_agent.get_graph(xray=True).draw_mermaid_png()))"
   ]
  },
  {
   "cell_type": "code",
   "execution_count": null,
   "metadata": {},
   "outputs": [],
   "source": []
  }
 ],
 "metadata": {
  "kernelspec": {
   "display_name": "Python 3",
   "language": "python",
   "name": "python3"
  },
  "language_info": {
   "codemirror_mode": {
    "name": "ipython",
    "version": 3
   },
   "file_extension": ".py",
   "mimetype": "text/x-python",
   "name": "python",
   "nbconvert_exporter": "python",
   "pygments_lexer": "ipython3",
   "version": "3.12.3"
  }
 },
 "nbformat": 4,
 "nbformat_minor": 2
}
